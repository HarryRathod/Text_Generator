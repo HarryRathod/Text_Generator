{
 "cells": [
  {
   "cell_type": "code",
   "execution_count": 1,
   "id": "587374af",
   "metadata": {},
   "outputs": [],
   "source": [
    "def generateTable(data, k = 4):\n",
    "    \n",
    "    T = {}\n",
    "    \n",
    "    for i in range(len(data)-k):\n",
    "        X = data[i:i+k]\n",
    "        y = data[i+k]\n",
    "        \n",
    "        if T.get(X) is None:\n",
    "            T[X] = {}\n",
    "            T[X][y] = 1\n",
    "        else:\n",
    "            if T[X].get(y) is None:\n",
    "                T[X][y] = 1\n",
    "            else:\n",
    "                T[X][y] += 1\n",
    "    return T"
   ]
  },
  {
   "cell_type": "code",
   "execution_count": 2,
   "id": "7a7bf532",
   "metadata": {},
   "outputs": [],
   "source": [
    "def convertFreqIntoProb(T):\n",
    "    for kx in T.keys():\n",
    "        s = sum(T[kx].values())\n",
    "        for k in T[kx].keys():\n",
    "            T[kx][k] = T[kx][k]/s\n",
    "            \n",
    "    return T"
   ]
  },
  {
   "cell_type": "code",
   "execution_count": 3,
   "id": "ba0fd5c3",
   "metadata": {},
   "outputs": [],
   "source": [
    "import codecs\n",
    "\n",
    "def load_text(filepath):\n",
    "    with codecs.open(filepath, 'r', encoding='utf-8', errors='ignore') as f:\n",
    "        return f.read().lower()\n",
    "    "
   ]
  },
  {
   "cell_type": "code",
   "execution_count": 4,
   "id": "cf2b1a34",
   "metadata": {},
   "outputs": [],
   "source": [
    "text = load_text('./speech.txt')"
   ]
  },
  {
   "cell_type": "code",
   "execution_count": 5,
   "id": "dfc6e6de",
   "metadata": {},
   "outputs": [],
   "source": [
    "def trainMarkovChain(text, k = 4):\n",
    "    T = generateTable(text, k)\n",
    "    T = convertFreqIntoProb(T)\n",
    "    \n",
    "    return T"
   ]
  },
  {
   "cell_type": "code",
   "execution_count": 6,
   "id": "b13ede04",
   "metadata": {},
   "outputs": [],
   "source": [
    "model = trainMarkovChain(text)"
   ]
  },
  {
   "cell_type": "code",
   "execution_count": 7,
   "id": "6f887174",
   "metadata": {},
   "outputs": [],
   "source": [
    "import random\n",
    "\n",
    "def sample_next(context , T, k):\n",
    "    context = context[-k:]\n",
    "    \n",
    "    if T.get(context) is None:\n",
    "        return \" \"\n",
    "    \n",
    "    possible_chars = list(T.get(context).keys())\n",
    "    possible_probabs = list(T.get(context).values())\n",
    "    return random.choices(possible_chars, weights=possible_probabs)[0]\n",
    "\n",
    "\n",
    "def generateText(starting_sent, T, k = 4, maxLen = 100):\n",
    "    \n",
    "    sentence = starting_sent\n",
    "    context = starting_sent[-k:]\n",
    "    \n",
    "    for i in range(maxLen):\n",
    "        next_pred = sample_next(context, T, k)\n",
    "        sentence += next_pred\n",
    "        context = sentence[-k:]\n",
    "    return sentence"
   ]
  },
  {
   "cell_type": "code",
   "execution_count": 20,
   "id": "9bff3051",
   "metadata": {},
   "outputs": [
    {
     "name": "stdout",
     "output_type": "stream",
     "text": [
      "this is a vikas.\n",
      "the such has summitment voted not? the countries of such to 21,000 mw of better has been o\n"
     ]
    }
   ],
   "source": [
    "predictions = generateText(\"this is\", model, k=4, maxLen=100)\n",
    "\n",
    "print(predictions)"
   ]
  },
  {
   "cell_type": "code",
   "execution_count": null,
   "id": "8ba85073",
   "metadata": {},
   "outputs": [],
   "source": []
  },
  {
   "cell_type": "code",
   "execution_count": null,
   "id": "8380a44c",
   "metadata": {},
   "outputs": [],
   "source": []
  },
  {
   "cell_type": "code",
   "execution_count": null,
   "id": "c72a846e",
   "metadata": {},
   "outputs": [],
   "source": []
  }
 ],
 "metadata": {
  "kernelspec": {
   "display_name": "Python 3 (ipykernel)",
   "language": "python",
   "name": "python3"
  },
  "language_info": {
   "codemirror_mode": {
    "name": "ipython",
    "version": 3
   },
   "file_extension": ".py",
   "mimetype": "text/x-python",
   "name": "python",
   "nbconvert_exporter": "python",
   "pygments_lexer": "ipython3",
   "version": "3.9.7"
  }
 },
 "nbformat": 4,
 "nbformat_minor": 5
}
